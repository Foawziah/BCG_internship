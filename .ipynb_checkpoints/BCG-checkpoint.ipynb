version https://git-lfs.github.com/spec/v1
oid sha256:486a866358b7ae2a598e628a8d74d38771c1d12e2e4c1f8135852cff132693cb
size 257371299
